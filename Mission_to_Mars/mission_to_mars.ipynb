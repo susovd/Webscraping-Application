{
 "cells": [
  {
   "cell_type": "code",
   "execution_count": 1,
   "metadata": {},
   "outputs": [],
   "source": [
    "from time import sleep\n",
    "import pandas as pd\n",
    "from splinter import Browser\n",
    "from splinter.exceptions import ElementDoesNotExist\n",
    "from selenium.webdriver import ActionChains\n",
    "from webdriver_manager.chrome import ChromeDriverManager\n",
    "from bs4 import BeautifulSoup as bs\n",
    "import pymongo\n",
    "import requests"
   ]
  },
  {
   "cell_type": "code",
   "execution_count": 2,
   "metadata": {},
   "outputs": [],
   "source": [
    "url = \"https://mars.nasa.gov/news/\""
   ]
  },
  {
   "cell_type": "code",
   "execution_count": 3,
   "metadata": {},
   "outputs": [],
   "source": [
    "response = requests.get(url)"
   ]
  },
  {
   "cell_type": "code",
   "execution_count": 8,
   "metadata": {},
   "outputs": [
    {
     "name": "stderr",
     "output_type": "stream",
     "text": [
      "[WDM] - Current google-chrome version is 85.0.4183\n",
      "[WDM] - Get LATEST driver version for 85.0.4183\n"
     ]
    },
    {
     "name": "stdout",
     "output_type": "stream",
     "text": [
      " \n"
     ]
    },
    {
     "name": "stderr",
     "output_type": "stream",
     "text": [
      "[WDM] - Driver [C:\\Users\\racha\\.wdm\\drivers\\chromedriver\\win32\\85.0.4183.87\\chromedriver.exe] found in cache\n"
     ]
    }
   ],
   "source": [
    "executable_path = {'executable_path': ChromeDriverManager().install()}\n",
    "browser = Browser('chrome', **executable_path, headless=True)\n",
    "\n",
    "\n",
    "browser.visit(url)"
   ]
  },
  {
   "cell_type": "code",
   "execution_count": 9,
   "metadata": {},
   "outputs": [],
   "source": [
    "#create a beautiful soup object, parse with html parser\n",
    "soup = bs(browser.html, \"html.parser\")"
   ]
  },
  {
   "cell_type": "code",
   "execution_count": 12,
   "metadata": {},
   "outputs": [
    {
     "data": {
      "text/plain": [
       "51"
      ]
     },
     "execution_count": 12,
     "metadata": {},
     "output_type": "execute_result"
    }
   ],
   "source": [
    "len(titles)"
   ]
  },
  {
   "cell_type": "code",
   "execution_count": 10,
   "metadata": {},
   "outputs": [
    {
     "name": "stdout",
     "output_type": "stream",
     "text": [
      "Mars Now\n",
      "NASA Readies Perseverance Mars Rover's Earthly Twin \n",
      "NASA Engineers Checking InSight's Weather Sensors\n",
      "Follow NASA's Perseverance Rover in Real Time on Its Way to Mars\n",
      "NASA Establishes Board to Initially Review Mars Sample Return Plans\n",
      "NASA's Ingenuity Mars Helicopter Recharges Its Batteries in Flight\n",
      "Celebrate Mars Reconnaissance Orbiter's Views From Above\n",
      "NASA's MAVEN Observes Martian Night Sky Pulsing in Ultraviolet Light\n",
      "8 Martian Postcards to Celebrate Curiosity's Landing Anniversary\n",
      "NASA, ULA Launch Mars 2020 Perseverance Rover Mission to Red Planet\n",
      "NASA's Perseverance Rover Will Carry First Spacesuit Materials to Mars\n",
      "A New Video Captures the Science of NASA's Perseverance Mars Rover\n",
      "NASA Invites Public to Share Excitement of Mars 2020 Perseverance Rover Launch\n",
      "NASA's Mars Perseverance Rover Passes Flight Readiness Review\n",
      "NASA to Broadcast Mars 2020 Perseverance Launch, Prelaunch Activities\n",
      "6 Things to Know About NASA's Ingenuity Mars Helicopter\n",
      "Join NASA for the Launch of the Mars 2020 Perseverance Rover\n",
      "NASA's Perseverance Rover Attached to Atlas V Rocket\n",
      "7 Things to Know About the Mars 2020 Perseverance Rover Mission\n",
      "NASA's InSight Flexes Its Arm While Its 'Mole' Hits Pause\n",
      "Curiosity Mars Rover's Summer Road Trip Has Begun\n",
      "How NASA's Mars Helicopter Will Reach the Red Planet's Surface\n",
      "The Launch Is Approaching for NASA's Next Mars Rover, Perseverance\n",
      "NASA to Hold Mars 2020 Perseverance Rover Launch Briefing\n",
      "While Stargazing on Mars, NASA's Curiosity Rover Spots Earth and Venus\n",
      "NASA's Mars Rover Drivers Need Your Help\n",
      "Three New Views of Mars' Moon Phobos\n",
      "The Extraordinary Sample-Gathering System of NASA's Perseverance Mars Rover\n",
      "The Detective Aboard NASA's Perseverance Rover\n",
      "MAVEN Maps Electric Currents around Mars that are Fundamental to Atmospheric Loss\n",
      "Air Deliveries Bring NASA's Perseverance Mars Rover Closer to Launch\n",
      "NASA Wins 4 Webbys, 4 People's Voice Awards\n",
      "NASA's Perseverance Rover Goes Through Trials by Fire, Ice, Light and Sound\n",
      "NASA's Perseverance Rover Mission Getting in Shape for Launch\n",
      "NASA Perseverance Mars Rover Scientists Train in the Nevada Desert\n",
      "NASA's Perseverance Rover Will Look at Mars Through These 'Eyes'\n",
      "Meet the People Behind NASA's Perseverance Rover\n",
      "Q&A with the Student Who Named Ingenuity, NASA's Mars Helicopter\n",
      "Alabama High School Student Names NASA's Mars Helicopter\n",
      "How NASA's Perseverance Mars Team Adjusted to Work in the Time of Coronavirus \n",
      "NASA's Perseverance Mars Rover Gets Balanced\n",
      "\n",
      "\n",
      "Alabama High School Student Names NASA's Mars Helicopter\n",
      "\n",
      "\n",
      "\n",
      "\n",
      "Mars Helicopter Attached to NASA's Perseverance Rover\n",
      "\n",
      "\n",
      "\n",
      "\n",
      "NASA Readies Perseverance Mars Rover's Earthly Twin \n",
      "\n",
      "\n",
      "\n",
      "\n",
      "NASA to Broadcast Mars 2020 Perseverance Launch, Prelaunch Activities\n",
      "\n",
      "\n",
      "\n",
      "\n",
      "The Launch Is Approaching for NASA's Next Mars Rover, Perseverance\n",
      "\n",
      "\n",
      "\n",
      "\n",
      "NASA to Hold Mars 2020 Perseverance Rover Launch Briefing\n",
      "\n",
      "\n",
      "\n",
      "\n",
      "Alabama High School Student Names NASA's Mars Helicopter\n",
      "\n",
      "\n",
      "\n",
      "\n",
      "Mars Helicopter Attached to NASA's Perseverance Rover\n",
      "\n",
      "\n",
      "\n",
      "\n",
      "NASA Readies Perseverance Mars Rover's Earthly Twin \n",
      "\n",
      "\n",
      "\n",
      "\n",
      "NASA to Broadcast Mars 2020 Perseverance Launch, Prelaunch Activities\n",
      "\n",
      "\n"
     ]
    }
   ],
   "source": [
    "news_title = soup.find_all(\"div\", class_ = \"content_title\")\n",
    "titles = []\n",
    "for title in news_title:\n",
    "    a = title.text\n",
    "    titles.append(a)\n",
    "    print(title.text)\n"
   ]
  },
  {
   "cell_type": "code",
   "execution_count": 11,
   "metadata": {},
   "outputs": [],
   "source": [
    "description = soup.find_all(\"div\", class_ = \"article_teaser_body\")"
   ]
  },
  {
   "cell_type": "code",
   "execution_count": 16,
   "metadata": {},
   "outputs": [
    {
     "name": "stdout",
     "output_type": "stream",
     "text": [
      "Did you know NASA's next Mars rover has a nearly identical sibling on Earth for testing? Even better, it's about to roll for the first time through a replica Martian landscape.\n",
      "An electronics issue is suspected to be preventing the sensors from sharing their data about Mars weather with the spacecraft.\n",
      "A crisply rendered web application can show you where the agency's Mars 2020 mission is right now as it makes its way to the Red Planet for a Feb. 18, 2021, landing.\n",
      "The board will assist with analysis of current plans and goals for one of the most difficult missions humanity has ever undertaken.\n",
      "Headed to the Red Planet with the Perseverance rover, the pioneering helicopter is powered up for the first time in interplanetary space as part of a systems check.\n",
      "Marking its 15th anniversary since launch, one of the oldest spacecraft at the Red Planet has provided glimpses of dust devils, avalanches, and more.\n",
      "Vast areas of the Martian night sky pulse in ultraviolet light, according to images from NASA’s MAVEN spacecraft. The results are being used to illuminate complex circulation patterns in the Martian atmosphere.\n",
      "The NASA rover touched down eight years ago, on Aug. 5, 2012, and will soon be joined by a second rover, Perseverance.\n",
      "The agency's Mars 2020 mission is on its way. It will land at Jezero Crater in about seven months, on Feb. 18, 2021. \n",
      "In a Q&A, spacesuit designer Amy Ross explains how five samples, including a piece of helmet visor, will be tested aboard the rover, which is targeting a July 30 launch. \n",
      "With a targeted launch date of July 30, the next robotic scientist NASA is sending to the to the Red Planet has big ambitions.\n",
      "There are lots of ways to participate in the historic event, which is targeted for July 30.\n",
      "​The agency's Mars 2020 mission has one more big prelaunch review – the Launch Readiness Review, on July 27.\n",
      "Starting July 27, news activities will cover everything from mission engineering and science to returning samples from Mars to, of course, the launch itself.\n",
      "The first helicopter attempting to fly on another planet is a marvel of engineering. Get up to speed with these key facts about its plans.\n",
      "No matter where you live, choose from a menu of activities to join NASA as we \"Countdown to Mars\" and launch the Perseverance rover to the Red Planet.\n",
      "Ready for its launch later in the month, the Mars-bound rover will touch terra firma no more.\n",
      "NASA's next rover to the Red Planet is slated to launch no earlier than July 30. These highlights will get you up to speed on the ambitious mission.\n",
      "Now that the lander's robotic arm has helped the mole get underground, it will resume science activities that have been on hold.\n",
      "After more than a year in the \"clay-bearing unit,\" Curiosity is making a mile-long journey around some deep sand so that it can explore higher up Mount Sharp.\n",
      "The small craft will seek to prove that powered, controlled flight is possible on another planet. But just getting it onto the surface of Mars will take a whole lot of ingenuity.\n",
      "The Red Planet's surface has been visited by eight NASA spacecraft. The ninth will be the first that includes a roundtrip ticket in its flight plan. \n",
      "Learn more about the agency's next Red Planet mission during a live event on June 17.\n",
      "This new portrait of the Red Planet's neighbors was taken during a time when there's more dust in the air on Mars.\n",
      "Using an online tool to label Martian terrain types, you can train an artificial intelligence algorithm that could improve the way engineers guide the Curiosity rover.\n",
      "Taken with the infrared camera aboard NASA's Odyssey orbiter, they reveal temperature variations on the small moon as it drifts into and out of Mars’ shadow.\n",
      "Two astronauts collected Moon rocks on Apollo 11. It will take three robotic systems working together to gather up the first Mars rock samples for return to Earth.\n",
      "An instrument called SHERLOC will, with the help of its partner WATSON, hunt for signs of ancient life by detecting organic molecules and minerals.\n",
      "Five years after NASA’s MAVEN spacecraft entered into orbit around Mars, data from the mission has led to the creation of a map of electric current systems in the Martian atmosphere.\n",
      "A NASA Wallops Flight Facility cargo plane transported more than two tons of equipment — including the rover's sample collection tubes — to Florida for this summer's liftoff.\n",
      "Winners include the JPL-managed \"Send Your Name to Mars\" campaign, NASA's Global Climate Change website and Solar System Interactive.\n",
      "The agency's new Mars rover is put through a series of tests in vacuum chambers, acoustic chambers and more to get ready for the Red Planet.\n",
      "Stacking spacecraft components on top of each other is one of the final assembly steps before a mission launches to the Red Planet. \n",
      "Team members searched for signs of ancient microscopic life there, just as NASA's latest rover will on the Red Planet next year.\n",
      "A pair of zoomable cameras will help scientists and rover drivers with high-resolution color images.\n",
      "These are the scientists and engineers who built NASA's next Mars rover and who will guide it to a safe landing in Jezero Crater. \n",
      "As a longtime fan of space exploration, Vaneeza Rupani appreciates the creativity and collaboration involved with trying to fly on another planet.\n",
      "Vaneeza Rupani's essay was chosen as the name for the small spacecraft, which will mark NASA's first attempt at powered flight on another planet.\n",
      "Like much of the rest of the world, the Mars rover team is pushing forward with its mission-critical work while putting the health and safety of their colleagues and community first.\n",
      "The mission team performed a crucial weight-balancing test on the rover in preparation for this summer's history-making launch to the Red Planet.\n"
     ]
    }
   ],
   "source": [
    "news_p = []\n",
    "for news in description:\n",
    "    a = news.text\n",
    "    news_p.append(a)\n",
    "    print(news.text)\n"
   ]
  },
  {
   "cell_type": "code",
   "execution_count": 17,
   "metadata": {},
   "outputs": [
    {
     "data": {
      "text/plain": [
       "40"
      ]
     },
     "execution_count": 17,
     "metadata": {},
     "output_type": "execute_result"
    }
   ],
   "source": [
    "len(news_p)"
   ]
  },
  {
   "cell_type": "code",
   "execution_count": null,
   "metadata": {},
   "outputs": [],
   "source": []
  }
 ],
 "metadata": {
  "kernelspec": {
   "display_name": "Python [conda env:PythonData] *",
   "language": "python",
   "name": "conda-env-PythonData-py"
  },
  "language_info": {
   "codemirror_mode": {
    "name": "ipython",
    "version": 3
   },
   "file_extension": ".py",
   "mimetype": "text/x-python",
   "name": "python",
   "nbconvert_exporter": "python",
   "pygments_lexer": "ipython3",
   "version": "3.7.6"
  }
 },
 "nbformat": 4,
 "nbformat_minor": 4
}
